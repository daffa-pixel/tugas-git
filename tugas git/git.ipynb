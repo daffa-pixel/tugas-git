{
 "cells": [
  {
   "cell_type": "code",
   "execution_count": 1,
   "metadata": {},
   "outputs": [
    {
     "name": "stdout",
     "output_type": "stream",
     "text": [
      "Nama Lokasi: Kebun A\n",
      "Hasil Panen:\n",
      "- padi: 1200\n",
      "- jagung: 800\n",
      "- kedelai: 500\n",
      "\n",
      "Nama Lokasi: Kebun B\n",
      "Hasil Panen:\n",
      "- padi: 1500\n",
      "- jagung: 900\n",
      "- kedelai: 450\n",
      "\n",
      "Nama Lokasi: Kebun C\n",
      "Hasil Panen:\n",
      "- padi: 1100\n",
      "- jagung: 750\n",
      "- kedelai: 600\n",
      "\n",
      "Nama Lokasi: Kebun D\n",
      "Hasil Panen:\n",
      "- padi: 1300\n",
      "- jagung: 850\n",
      "- kedelai: 550\n",
      "\n",
      "Nama Lokasi: Kebun E\n",
      "Hasil Panen:\n",
      "- padi: 1400\n",
      "- jagung: 950\n",
      "- kedelai: 480\n",
      "\n"
     ]
    }
   ],
   "source": [
    "data_panen = {\n",
    "    'lokasi1': {\n",
    "        'nama_lokasi': 'Kebun A',\n",
    "        'hasil_panen': {\n",
    "            'padi': 1200,\n",
    "            'jagung': 800,\n",
    "            'kedelai': 500\n",
    "        }\n",
    "    },\n",
    "    'lokasi2': {\n",
    "        'nama_lokasi': 'Kebun B',\n",
    "        'hasil_panen': {\n",
    "            'padi': 1500,\n",
    "            'jagung': 900,\n",
    "            'kedelai': 450\n",
    "        }\n",
    "    },\n",
    "    'lokasi3': {\n",
    "        'nama_lokasi': 'Kebun C',\n",
    "        'hasil_panen': {\n",
    "            'padi': 1100,\n",
    "            'jagung': 750,\n",
    "            'kedelai': 600\n",
    "        }\n",
    "    },\n",
    "    'lokasi4': {\n",
    "        'nama_lokasi': 'Kebun D',\n",
    "        'hasil_panen': {\n",
    "            'padi': 1300,\n",
    "            'jagung': 850,\n",
    "            'kedelai': 550\n",
    "        }\n",
    "    },\n",
    "    'lokasi5': {\n",
    "        'nama_lokasi': 'Kebun E',\n",
    "        'hasil_panen': {\n",
    "            'padi': 1400,\n",
    "            'jagung': 950,\n",
    "            'kedelai': 480\n",
    "        }\n",
    "    }\n",
    "}\n",
    "\n",
    "for lokasi, info in data_panen.items():\n",
    "    print(f\"Nama Lokasi: {info['nama_lokasi']}\")\n",
    "    print(f\"Hasil Panen:\")\n",
    "    for komoditas, jumlah in info['hasil_panen'].items():\n",
    "        print(f\"- {komoditas}: {jumlah}\")\n",
    "    print()\n"
   ]
  },
  {
   "cell_type": "code",
   "execution_count": 3,
   "metadata": {},
   "outputs": [
    {
     "name": "stdout",
     "output_type": "stream",
     "text": [
      "Jumlah hasil panen jagung di lokasi 2: 900\n"
     ]
    }
   ],
   "source": [
    "lokasi2_jagung = data_panen['lokasi2']['hasil_panen']['jagung']\n",
    "print(\"Jumlah hasil panen jagung di lokasi 2:\", lokasi2_jagung)\n"
   ]
  },
  {
   "cell_type": "code",
   "execution_count": 6,
   "metadata": {},
   "outputs": [
    {
     "name": "stdout",
     "output_type": "stream",
     "text": [
      "Padi Lokasi 1: 1200, Kedelai Lokasi 1: 500\n",
      "Padi Lokasi 2: 1500, Kedelai Lokasi 2: 450\n",
      "Padi Lokasi 3: 1100, Kedelai Lokasi 3: 600\n",
      "Padi Lokasi 4: 1300, Kedelai Lokasi 4: 550\n",
      "Padi Lokasi 5: 1400, Kedelai Lokasi 5: 480\n"
     ]
    }
   ],
   "source": [
    "padi_lokasi1 = data_panen['lokasi1']['hasil_panen']['padi']\n",
    "kedelai_lokasi1 = data_panen['lokasi1']['hasil_panen']['kedelai']\n",
    "\n",
    "padi_lokasi2 = data_panen['lokasi2']['hasil_panen']['padi']\n",
    "kedelai_lokasi2 = data_panen['lokasi2']['hasil_panen']['kedelai']\n",
    "\n",
    "padi_lokasi3 = data_panen['lokasi3']['hasil_panen']['padi']\n",
    "kedelai_lokasi3 = data_panen['lokasi3']['hasil_panen']['kedelai']\n",
    "\n",
    "padi_lokasi4 = data_panen['lokasi4']['hasil_panen']['padi']\n",
    "kedelai_lokasi4 = data_panen['lokasi4']['hasil_panen']['kedelai']\n",
    "\n",
    "padi_lokasi5 = data_panen['lokasi5']['hasil_panen']['padi']\n",
    "kedelai_lokasi5 = data_panen['lokasi5']['hasil_panen']['kedelai']\n",
    "\n",
    "print(f\"Padi Lokasi 1: {padi_lokasi1}, Kedelai Lokasi 1: {kedelai_lokasi1}\")\n",
    "print(f\"Padi Lokasi 2: {padi_lokasi2}, Kedelai Lokasi 2: {kedelai_lokasi2}\")\n",
    "print(f\"Padi Lokasi 3: {padi_lokasi3}, Kedelai Lokasi 3: {kedelai_lokasi3}\")\n",
    "print(f\"Padi Lokasi 4: {padi_lokasi4}, Kedelai Lokasi 4: {kedelai_lokasi4}\")\n",
    "print(f\"Padi Lokasi 5: {padi_lokasi5}, Kedelai Lokasi 5: {kedelai_lokasi5}\")\n"
   ]
  },
  {
   "cell_type": "code",
   "execution_count": 7,
   "metadata": {},
   "outputs": [
    {
     "name": "stdout",
     "output_type": "stream",
     "text": [
      "Lokasi Kebun A dalam kondisi baik.\n",
      "Lokasi Kebun B memerlukan perhatian khusus.\n",
      "Lokasi Kebun C dalam kondisi baik.\n",
      "Lokasi Kebun D memerlukan perhatian khusus.\n",
      "Lokasi Kebun E memerlukan perhatian khusus.\n"
     ]
    }
   ],
   "source": [
    "for lokasi, info in data_panen.items():\n",
    "    padi = info['hasil_panen']['padi']\n",
    "    jagung = info['hasil_panen']['jagung']\n",
    "    \n",
    "    if padi > 1300 or jagung > 800:\n",
    "        print(f\"Lokasi {info['nama_lokasi']} memerlukan perhatian khusus.\")\n",
    "    else:\n",
    "        print(f\"Lokasi {info['nama_lokasi']} dalam kondisi baik.\")\n"
   ]
  },
  {
   "cell_type": "code",
   "execution_count": 4,
   "metadata": {},
   "outputs": [
    {
     "name": "stdout",
     "output_type": "stream",
     "text": [
      "Nama lokasi dari lokasi 3: Kebun C\n"
     ]
    }
   ],
   "source": [
    "nama_lokasi3 = data_panen['lokasi3']['nama_lokasi']\n",
    "print(\"Nama lokasi dari lokasi 3:\", nama_lokasi3)\n"
   ]
  },
  {
   "cell_type": "code",
   "execution_count": 5,
   "metadata": {},
   "outputs": [
    {
     "name": "stdout",
     "output_type": "stream",
     "text": [
      "Hasil Panen Padi: {'lokasi1': 1200, 'lokasi2': 1500, 'lokasi3': 1100, 'lokasi4': 1300, 'lokasi5': 1400}\n",
      "Hasil Panen Kedelai: {'lokasi1': 500, 'lokasi2': 450, 'lokasi3': 600, 'lokasi4': 550, 'lokasi5': 480}\n"
     ]
    }
   ],
   "source": [
    "hasil_panen_padi = {}\n",
    "hasil_panen_kedelai = {}\n",
    "\n",
    "for lokasi, info in data_panen.items():\n",
    "    hasil_panen_padi[lokasi] = info['hasil_panen']['padi']\n",
    "    hasil_panen_kedelai[lokasi] = info['hasil_panen']['kedelai']\n",
    "\n",
    "print(\"Hasil Panen Padi:\", hasil_panen_padi)\n",
    "print(\"Hasil Panen Kedelai:\", hasil_panen_kedelai)\n"
   ]
  }
 ],
 "metadata": {
  "kernelspec": {
   "display_name": "Python 3",
   "language": "python",
   "name": "python3"
  },
  "language_info": {
   "codemirror_mode": {
    "name": "ipython",
    "version": 3
   },
   "file_extension": ".py",
   "mimetype": "text/x-python",
   "name": "python",
   "nbconvert_exporter": "python",
   "pygments_lexer": "ipython3",
   "version": "3.11.9"
  }
 },
 "nbformat": 4,
 "nbformat_minor": 2
}
